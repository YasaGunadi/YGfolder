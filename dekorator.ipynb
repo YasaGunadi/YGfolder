{
 "cells": [
  {
   "cell_type": "code",
   "execution_count": 1,
   "id": "9d115014",
   "metadata": {},
   "outputs": [],
   "source": [
    "#Contoh penggunaan decorator di website\n",
    "pengguna1 = {'nama': 'yasa',\n",
    "             'valid': True}"
   ]
  },
  {
   "cell_type": "code",
   "execution_count": 2,
   "id": "7b275894",
   "metadata": {},
   "outputs": [],
   "source": [
    "def otentifikasi(fungsi):\n",
    "    def wrap_func(*args, **kwargs):\n",
    "        if args[0]['valid']:\n",
    "            return fungsi (*args, **kwargs)\n",
    "        return wrap_func"
   ]
  },
  {
   "cell_type": "code",
   "execution_count": 14,
   "id": "d0d517e3",
   "metadata": {},
   "outputs": [],
   "source": [
    "@otentifikasi\n",
    "def kirim_pesan(user):\n",
    "    print('pesan telah berhasil dikirim')"
   ]
  },
  {
   "cell_type": "code",
   "execution_count": 15,
   "id": "7cec0d10",
   "metadata": {},
   "outputs": [
    {
     "ename": "TypeError",
     "evalue": "'NoneType' object is not callable",
     "output_type": "error",
     "traceback": [
      "\u001b[1;31m---------------------------------------------------------------------------\u001b[0m",
      "\u001b[1;31mTypeError\u001b[0m                                 Traceback (most recent call last)",
      "\u001b[1;32m~\\AppData\\Local\\Temp/ipykernel_2000/868273134.py\u001b[0m in \u001b[0;36m<module>\u001b[1;34m\u001b[0m\n\u001b[1;32m----> 1\u001b[1;33m \u001b[0mkirim_pesan\u001b[0m\u001b[1;33m(\u001b[0m\u001b[0mpengguna1\u001b[0m\u001b[1;33m)\u001b[0m\u001b[1;33m\u001b[0m\u001b[1;33m\u001b[0m\u001b[0m\n\u001b[0m",
      "\u001b[1;31mTypeError\u001b[0m: 'NoneType' object is not callable"
     ]
    }
   ],
   "source": [
    "kirim_pesan(pengguna1)"
   ]
  },
  {
   "cell_type": "code",
   "execution_count": null,
   "id": "6095243a",
   "metadata": {},
   "outputs": [],
   "source": []
  }
 ],
 "metadata": {
  "kernelspec": {
   "display_name": "Python 3 (ipykernel)",
   "language": "python",
   "name": "python3"
  },
  "language_info": {
   "codemirror_mode": {
    "name": "ipython",
    "version": 3
   },
   "file_extension": ".py",
   "mimetype": "text/x-python",
   "name": "python",
   "nbconvert_exporter": "python",
   "pygments_lexer": "ipython3",
   "version": "3.9.7"
  }
 },
 "nbformat": 4,
 "nbformat_minor": 5
}
