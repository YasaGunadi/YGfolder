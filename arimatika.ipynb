{
 "cells": [
  {
   "cell_type": "code",
   "execution_count": 1,
   "id": "b0e566ca",
   "metadata": {},
   "outputs": [],
   "source": [
    "import numpy as np\n",
    "import pandas as pd"
   ]
  },
  {
   "cell_type": "code",
   "execution_count": 2,
   "id": "f34daeb8",
   "metadata": {},
   "outputs": [],
   "source": [
    "label = ['satu','dua','tiga']"
   ]
  },
  {
   "cell_type": "code",
   "execution_count": 3,
   "id": "7cf3b36e",
   "metadata": {},
   "outputs": [],
   "source": [
    "angka = [10,20,30]"
   ]
  },
  {
   "cell_type": "code",
   "execution_count": 4,
   "id": "6e0ffd8c",
   "metadata": {},
   "outputs": [],
   "source": [
    "np_angka = np.array(angka)"
   ]
  },
  {
   "cell_type": "code",
   "execution_count": 5,
   "id": "cf684fed",
   "metadata": {},
   "outputs": [
    {
     "data": {
      "text/plain": [
       "array([10, 20, 30])"
      ]
     },
     "execution_count": 5,
     "metadata": {},
     "output_type": "execute_result"
    }
   ],
   "source": [
    "np_angka"
   ]
  },
  {
   "cell_type": "code",
   "execution_count": 6,
   "id": "e6666c74",
   "metadata": {},
   "outputs": [],
   "source": [
    "d = {'satu':10,'dua':20,'tiga':30}"
   ]
  },
  {
   "cell_type": "code",
   "execution_count": 7,
   "id": "e5daf198",
   "metadata": {},
   "outputs": [
    {
     "data": {
      "text/plain": [
       "0    10\n",
       "1    20\n",
       "2    30\n",
       "dtype: int64"
      ]
     },
     "execution_count": 7,
     "metadata": {},
     "output_type": "execute_result"
    }
   ],
   "source": [
    "pd.Series(angka)"
   ]
  },
  {
   "cell_type": "code",
   "execution_count": 8,
   "id": "efe0b21b",
   "metadata": {},
   "outputs": [],
   "source": [
    "datakucoba = pd.Series(data=angka,index=label)"
   ]
  },
  {
   "cell_type": "code",
   "execution_count": 9,
   "id": "3c2a9943",
   "metadata": {},
   "outputs": [
    {
     "data": {
      "text/plain": [
       "10"
      ]
     },
     "execution_count": 9,
     "metadata": {},
     "output_type": "execute_result"
    }
   ],
   "source": [
    "datakucoba['satu']"
   ]
  },
  {
   "cell_type": "code",
   "execution_count": 10,
   "id": "b539cffc",
   "metadata": {},
   "outputs": [
    {
     "data": {
      "text/plain": [
       "10"
      ]
     },
     "execution_count": 10,
     "metadata": {},
     "output_type": "execute_result"
    }
   ],
   "source": [
    "np_angka [0]"
   ]
  },
  {
   "cell_type": "code",
   "execution_count": 11,
   "id": "1d310e8c",
   "metadata": {},
   "outputs": [],
   "source": [
    "datakucoba = datakucoba.to_frame()"
   ]
  },
  {
   "cell_type": "code",
   "execution_count": 12,
   "id": "d0c83690",
   "metadata": {},
   "outputs": [
    {
     "data": {
      "text/html": [
       "<div>\n",
       "<style scoped>\n",
       "    .dataframe tbody tr th:only-of-type {\n",
       "        vertical-align: middle;\n",
       "    }\n",
       "\n",
       "    .dataframe tbody tr th {\n",
       "        vertical-align: top;\n",
       "    }\n",
       "\n",
       "    .dataframe thead th {\n",
       "        text-align: right;\n",
       "    }\n",
       "</style>\n",
       "<table border=\"1\" class=\"dataframe\">\n",
       "  <thead>\n",
       "    <tr style=\"text-align: right;\">\n",
       "      <th></th>\n",
       "      <th>0</th>\n",
       "    </tr>\n",
       "  </thead>\n",
       "  <tbody>\n",
       "    <tr>\n",
       "      <th>satu</th>\n",
       "      <td>10</td>\n",
       "    </tr>\n",
       "    <tr>\n",
       "      <th>dua</th>\n",
       "      <td>20</td>\n",
       "    </tr>\n",
       "    <tr>\n",
       "      <th>tiga</th>\n",
       "      <td>30</td>\n",
       "    </tr>\n",
       "  </tbody>\n",
       "</table>\n",
       "</div>"
      ],
      "text/plain": [
       "       0\n",
       "satu  10\n",
       "dua   20\n",
       "tiga  30"
      ]
     },
     "execution_count": 12,
     "metadata": {},
     "output_type": "execute_result"
    }
   ],
   "source": [
    "datakucoba"
   ]
  },
  {
   "cell_type": "code",
   "execution_count": 13,
   "id": "88d9a299",
   "metadata": {},
   "outputs": [],
   "source": [
    "d2 = {'satu':10,'dua':20,'tiga':30, 'empat':40,'lima':50}"
   ]
  },
  {
   "cell_type": "code",
   "execution_count": 14,
   "id": "c92a3774",
   "metadata": {},
   "outputs": [
    {
     "data": {
      "text/plain": [
       "{'satu': 10, 'dua': 20, 'tiga': 30, 'empat': 40, 'lima': 50}"
      ]
     },
     "execution_count": 14,
     "metadata": {},
     "output_type": "execute_result"
    }
   ],
   "source": [
    "d2"
   ]
  }
 ],
 "metadata": {
  "kernelspec": {
   "display_name": "Python 3 (ipykernel)",
   "language": "python",
   "name": "python3"
  },
  "language_info": {
   "codemirror_mode": {
    "name": "ipython",
    "version": 3
   },
   "file_extension": ".py",
   "mimetype": "text/x-python",
   "name": "python",
   "nbconvert_exporter": "python",
   "pygments_lexer": "ipython3",
   "version": "3.9.7"
  }
 },
 "nbformat": 4,
 "nbformat_minor": 5
}
