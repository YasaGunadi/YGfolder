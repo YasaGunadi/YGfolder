{
 "cells": [
  {
   "cell_type": "code",
   "execution_count": 2,
   "id": "0d62c7d9",
   "metadata": {},
   "outputs": [
    {
     "name": "stdout",
     "output_type": "stream",
     "text": [
      "hey kamu berada di huruf A, selamat! 2\n",
      "hey kamu berada di huruf A, selamat! 4\n",
      "hey kamu berada di huruf A, selamat! 9\n",
      "hey kamu berada di huruf A, selamat! 11\n"
     ]
    }
   ],
   "source": [
    "#mencari di index keberapa suatu object\n",
    "\n",
    "jumlah=0\n",
    "for item in ('saya belajar'):\n",
    "    jumlah += 1\n",
    "    if item == 'a':\n",
    "        print('hey kamu berada di huruf A, selamat!',jumlah)"
   ]
  },
  {
   "cell_type": "code",
   "execution_count": 4,
   "id": "192d9a65",
   "metadata": {},
   "outputs": [],
   "source": [
    "#cari bilangan ganjil terhadap 1-10\n",
    "\n",
    "angka = (1,2,3,4,5,6,7,8,9,10)"
   ]
  },
  {
   "cell_type": "code",
   "execution_count": 10,
   "id": "dda8a69a",
   "metadata": {},
   "outputs": [
    {
     "name": "stdout",
     "output_type": "stream",
     "text": [
      "angka 1 adalah bilangan ganjil\n",
      "angka 2 adalah bilangan genap\n",
      "angka 3 adalah bilangan ganjil\n",
      "angka 4 adalah bilangan genap\n",
      "angka 5 adalah bilangan ganjil\n",
      "angka 6 adalah bilangan genap\n",
      "angka 7 adalah bilangan ganjil\n",
      "angka 8 adalah bilangan genap\n",
      "angka 9 adalah bilangan ganjil\n",
      "angka 10 adalah bilangan genap\n"
     ]
    }
   ],
   "source": [
    "for i in angka:\n",
    "    if i%2 == 0:\n",
    "        print('angka' ,i, 'adalah bilangan genap')\n",
    "    else:\n",
    "        print('angka '+str(i)+' adalah bilangan ganjil')\n",
    "            "
   ]
  },
  {
   "cell_type": "code",
   "execution_count": null,
   "id": "c5abc6da",
   "metadata": {},
   "outputs": [],
   "source": []
  }
 ],
 "metadata": {
  "kernelspec": {
   "display_name": "Python 3 (ipykernel)",
   "language": "python",
   "name": "python3"
  },
  "language_info": {
   "codemirror_mode": {
    "name": "ipython",
    "version": 3
   },
   "file_extension": ".py",
   "mimetype": "text/x-python",
   "name": "python",
   "nbconvert_exporter": "python",
   "pygments_lexer": "ipython3",
   "version": "3.9.7"
  }
 },
 "nbformat": 4,
 "nbformat_minor": 5
}
