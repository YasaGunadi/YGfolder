{
 "cells": [
  {
   "cell_type": "code",
   "execution_count": 1,
   "id": "e345f586",
   "metadata": {},
   "outputs": [],
   "source": [
    "import pandas as pd #import library"
   ]
  },
  {
   "cell_type": "code",
   "execution_count": 18,
   "id": "0e3ec377",
   "metadata": {},
   "outputs": [],
   "source": [
    "datakuIndriani = pd.read_excel('REPORT CHAT TANGGAL 10 MARET 2022.xlsx',sheet_name='INDRIANI')#memanggil file data sesuai dengan directorynya\n",
    "datakuNasa = pd.read_excel('REPORT CHAT TANGGAL 10 MARET 2022.xlsx',sheet_name='NASA')#memanggil file data sesuai dengan directorynya\n",
    "datakuSilvia = pd.read_excel('REPORT CHAT TANGGAL 10 MARET 2022.xlsx',sheet_name='SILVIA')#memanggil file data sesuai dengan directorynya\n",
    "datakuIndah = pd.read_excel('REPORT CHAT TANGGAL 10 MARET 2022.xlsx',sheet_name='INDAH')#memanggil file data sesuai dengan directorynya"
   ]
  },
  {
   "cell_type": "code",
   "execution_count": 19,
   "id": "634c3400-d5af-4bb6-b627-23e65d12b15b",
   "metadata": {},
   "outputs": [],
   "source": [
    "dataall = datakuIndriani.append([datakuNasa,datakuSilvia,datakuIndah])"
   ]
  },
  {
   "cell_type": "code",
   "execution_count": 21,
   "id": "c647d584-22b6-4a9e-b7c4-2effa5234024",
   "metadata": {},
   "outputs": [
    {
     "name": "stdout",
     "output_type": "stream",
     "text": [
      "<class 'pandas.core.frame.DataFrame'>\n",
      "Int64Index: 70 entries, 0 to 17\n",
      "Data columns (total 11 columns):\n",
      " #   Column            Non-Null Count  Dtype \n",
      "---  ------            --------------  ----- \n",
      " 0   Agent             27 non-null     object\n",
      " 1   Conversation ID   70 non-null     int64 \n",
      " 2   Customer ID       70 non-null     int64 \n",
      " 3   Customer Name     70 non-null     object\n",
      " 4   Channel           70 non-null     object\n",
      " 5   Tag               70 non-null     object\n",
      " 6   Room Assigned At  70 non-null     object\n",
      " 7   AGENT             21 non-null     object\n",
      " 8   TANGGAL           21 non-null     object\n",
      " 9   Tag Created At    61 non-null     object\n",
      " 10  Agen              22 non-null     object\n",
      "dtypes: int64(2), object(9)\n",
      "memory usage: 6.6+ KB\n"
     ]
    }
   ],
   "source": [
    "dataall.info()"
   ]
  },
  {
   "cell_type": "code",
   "execution_count": 22,
   "id": "5d77b98f",
   "metadata": {},
   "outputs": [
    {
     "data": {
      "text/html": [
       "<div>\n",
       "<style scoped>\n",
       "    .dataframe tbody tr th:only-of-type {\n",
       "        vertical-align: middle;\n",
       "    }\n",
       "\n",
       "    .dataframe tbody tr th {\n",
       "        vertical-align: top;\n",
       "    }\n",
       "\n",
       "    .dataframe thead th {\n",
       "        text-align: right;\n",
       "    }\n",
       "</style>\n",
       "<table border=\"1\" class=\"dataframe\">\n",
       "  <thead>\n",
       "    <tr style=\"text-align: right;\">\n",
       "      <th></th>\n",
       "      <th>Agent</th>\n",
       "      <th>Conversation ID</th>\n",
       "      <th>Customer ID</th>\n",
       "      <th>Customer Name</th>\n",
       "      <th>Channel</th>\n",
       "      <th>Tag</th>\n",
       "      <th>Room Assigned At</th>\n",
       "      <th>AGENT</th>\n",
       "      <th>TANGGAL</th>\n",
       "      <th>Tag Created At</th>\n",
       "      <th>Agen</th>\n",
       "    </tr>\n",
       "  </thead>\n",
       "  <tbody>\n",
       "    <tr>\n",
       "      <th>0</th>\n",
       "      <td>Indriani</td>\n",
       "      <td>70006594</td>\n",
       "      <td>6281212436602</td>\n",
       "      <td>Properti</td>\n",
       "      <td>WhatsApp - Rumah Sunat dr. Mahdian</td>\n",
       "      <td>[WhatsappAnakregular] regular visitorbr</td>\n",
       "      <td>2022-03-10T05:46:11Z</td>\n",
       "      <td>NaN</td>\n",
       "      <td>NaN</td>\n",
       "      <td>NaN</td>\n",
       "      <td>NaN</td>\n",
       "    </tr>\n",
       "    <tr>\n",
       "      <th>1</th>\n",
       "      <td>Indriani</td>\n",
       "      <td>69925093</td>\n",
       "      <td>6285850733657</td>\n",
       "      <td>Ipul</td>\n",
       "      <td>WhatsApp - Rumah Sunat dr. Mahdian</td>\n",
       "      <td>tidakadakode regular lain-lainbr</td>\n",
       "      <td>2022-03-10T00:40:43Z</td>\n",
       "      <td>NaN</td>\n",
       "      <td>NaN</td>\n",
       "      <td>NaN</td>\n",
       "      <td>NaN</td>\n",
       "    </tr>\n",
       "    <tr>\n",
       "      <th>2</th>\n",
       "      <td>Indriani</td>\n",
       "      <td>69935768</td>\n",
       "      <td>6282299992688</td>\n",
       "      <td>Hanum Az-zahra</td>\n",
       "      <td>WhatsApp - Rumah Sunat dr. Mahdian</td>\n",
       "      <td>[WhatsappAnakReguler] housecall lain-lainbr</td>\n",
       "      <td>2022-03-10T00:40:48Z</td>\n",
       "      <td>NaN</td>\n",
       "      <td>NaN</td>\n",
       "      <td>NaN</td>\n",
       "      <td>NaN</td>\n",
       "    </tr>\n",
       "    <tr>\n",
       "      <th>3</th>\n",
       "      <td>Indriani</td>\n",
       "      <td>69940601</td>\n",
       "      <td>6281289196296</td>\n",
       "      <td>Feby Seferagic</td>\n",
       "      <td>WhatsApp - Rumah Sunat dr. Mahdian</td>\n",
       "      <td>tidakadakode regular visitorbr</td>\n",
       "      <td>2022-03-10T00:40:52Z</td>\n",
       "      <td>NaN</td>\n",
       "      <td>NaN</td>\n",
       "      <td>NaN</td>\n",
       "      <td>NaN</td>\n",
       "    </tr>\n",
       "    <tr>\n",
       "      <th>4</th>\n",
       "      <td>Indriani</td>\n",
       "      <td>69912882</td>\n",
       "      <td>6282122370192</td>\n",
       "      <td>Muhammad Hilal</td>\n",
       "      <td>WhatsApp - Rumah Sunat dr. Mahdian</td>\n",
       "      <td>tidakadakode gemuk visitorlm</td>\n",
       "      <td>2022-03-10T00:40:47Z</td>\n",
       "      <td>NaN</td>\n",
       "      <td>NaN</td>\n",
       "      <td>NaN</td>\n",
       "      <td>NaN</td>\n",
       "    </tr>\n",
       "    <tr>\n",
       "      <th>5</th>\n",
       "      <td>Indriani</td>\n",
       "      <td>69958447</td>\n",
       "      <td>628125014894</td>\n",
       "      <td>Zulkarnain Agus Salim</td>\n",
       "      <td>WhatsApp - Rumah Sunat dr. Mahdian</td>\n",
       "      <td>tidakadakode regular shoppingbr</td>\n",
       "      <td>2022-03-10T01:29:19Z</td>\n",
       "      <td>NaN</td>\n",
       "      <td>NaN</td>\n",
       "      <td>NaN</td>\n",
       "      <td>NaN</td>\n",
       "    </tr>\n",
       "    <tr>\n",
       "      <th>6</th>\n",
       "      <td>Indriani</td>\n",
       "      <td>69946022</td>\n",
       "      <td>6285652110511</td>\n",
       "      <td>Ingrid Felicia</td>\n",
       "      <td>WhatsApp - Rumah Sunat dr. Mahdian</td>\n",
       "      <td>[WhatsappGMB] regular shoppingbr</td>\n",
       "      <td>2022-03-10T00:40:58Z</td>\n",
       "      <td>NaN</td>\n",
       "      <td>NaN</td>\n",
       "      <td>NaN</td>\n",
       "      <td>NaN</td>\n",
       "    </tr>\n",
       "    <tr>\n",
       "      <th>7</th>\n",
       "      <td>Indriani</td>\n",
       "      <td>69891194</td>\n",
       "      <td>628871332110</td>\n",
       "      <td>Kueku / Nana Razka</td>\n",
       "      <td>WhatsApp - Rumah Sunat dr. Mahdian</td>\n",
       "      <td>[WhatsappAnakReguler]regular shoppinglm</td>\n",
       "      <td>2022-03-10T00:40:55Z</td>\n",
       "      <td>NaN</td>\n",
       "      <td>NaN</td>\n",
       "      <td>NaN</td>\n",
       "      <td>NaN</td>\n",
       "    </tr>\n",
       "    <tr>\n",
       "      <th>8</th>\n",
       "      <td>Indriani</td>\n",
       "      <td>45417530</td>\n",
       "      <td>6287896733170</td>\n",
       "      <td>Tatu</td>\n",
       "      <td>WhatsApp - Rumah Sunat dr. Mahdian</td>\n",
       "      <td>tidakadakode lain-lain spamlm</td>\n",
       "      <td>2022-03-10T23:56:08Z</td>\n",
       "      <td>NaN</td>\n",
       "      <td>NaN</td>\n",
       "      <td>NaN</td>\n",
       "      <td>NaN</td>\n",
       "    </tr>\n",
       "    <tr>\n",
       "      <th>0</th>\n",
       "      <td>NaN</td>\n",
       "      <td>70047479</td>\n",
       "      <td>6289630738988</td>\n",
       "      <td>Adris Serfiraz Khairunaas</td>\n",
       "      <td>WhatsApp - Rumah Sunat dr. Mahdian</td>\n",
       "      <td>tidakadakode regular visitorbr</td>\n",
       "      <td>2022-03-10T19:51:28Z</td>\n",
       "      <td>NASA</td>\n",
       "      <td>10 Maret 2022</td>\n",
       "      <td>2022-03-10T22:50:16Z</td>\n",
       "      <td>NaN</td>\n",
       "    </tr>\n",
       "  </tbody>\n",
       "</table>\n",
       "</div>"
      ],
      "text/plain": [
       "      Agent  Conversation ID    Customer ID              Customer Name  \\\n",
       "0  Indriani         70006594  6281212436602                   Properti   \n",
       "1  Indriani         69925093  6285850733657                       Ipul   \n",
       "2  Indriani         69935768  6282299992688             Hanum Az-zahra   \n",
       "3  Indriani         69940601  6281289196296             Feby Seferagic   \n",
       "4  Indriani         69912882  6282122370192             Muhammad Hilal   \n",
       "5  Indriani         69958447   628125014894      Zulkarnain Agus Salim   \n",
       "6  Indriani         69946022  6285652110511             Ingrid Felicia   \n",
       "7  Indriani         69891194   628871332110         Kueku / Nana Razka   \n",
       "8  Indriani         45417530  6287896733170                       Tatu   \n",
       "0       NaN         70047479  6289630738988  Adris Serfiraz Khairunaas   \n",
       "\n",
       "                              Channel  \\\n",
       "0  WhatsApp - Rumah Sunat dr. Mahdian   \n",
       "1  WhatsApp - Rumah Sunat dr. Mahdian   \n",
       "2  WhatsApp - Rumah Sunat dr. Mahdian   \n",
       "3  WhatsApp - Rumah Sunat dr. Mahdian   \n",
       "4  WhatsApp - Rumah Sunat dr. Mahdian   \n",
       "5  WhatsApp - Rumah Sunat dr. Mahdian   \n",
       "6  WhatsApp - Rumah Sunat dr. Mahdian   \n",
       "7  WhatsApp - Rumah Sunat dr. Mahdian   \n",
       "8  WhatsApp - Rumah Sunat dr. Mahdian   \n",
       "0  WhatsApp - Rumah Sunat dr. Mahdian   \n",
       "\n",
       "                                           Tag      Room Assigned At AGENT  \\\n",
       "0      [WhatsappAnakregular] regular visitorbr  2022-03-10T05:46:11Z   NaN   \n",
       "1             tidakadakode regular lain-lainbr  2022-03-10T00:40:43Z   NaN   \n",
       "2  [WhatsappAnakReguler] housecall lain-lainbr  2022-03-10T00:40:48Z   NaN   \n",
       "3               tidakadakode regular visitorbr  2022-03-10T00:40:52Z   NaN   \n",
       "4                 tidakadakode gemuk visitorlm  2022-03-10T00:40:47Z   NaN   \n",
       "5              tidakadakode regular shoppingbr  2022-03-10T01:29:19Z   NaN   \n",
       "6             [WhatsappGMB] regular shoppingbr  2022-03-10T00:40:58Z   NaN   \n",
       "7      [WhatsappAnakReguler]regular shoppinglm  2022-03-10T00:40:55Z   NaN   \n",
       "8                tidakadakode lain-lain spamlm  2022-03-10T23:56:08Z   NaN   \n",
       "0               tidakadakode regular visitorbr  2022-03-10T19:51:28Z  NASA   \n",
       "\n",
       "         TANGGAL        Tag Created At Agen  \n",
       "0            NaN                   NaN  NaN  \n",
       "1            NaN                   NaN  NaN  \n",
       "2            NaN                   NaN  NaN  \n",
       "3            NaN                   NaN  NaN  \n",
       "4            NaN                   NaN  NaN  \n",
       "5            NaN                   NaN  NaN  \n",
       "6            NaN                   NaN  NaN  \n",
       "7            NaN                   NaN  NaN  \n",
       "8            NaN                   NaN  NaN  \n",
       "0  10 Maret 2022  2022-03-10T22:50:16Z  NaN  "
      ]
     },
     "execution_count": 22,
     "metadata": {},
     "output_type": "execute_result"
    }
   ],
   "source": [
    "dataall.head(10)#menampilkan 10 baris pertama dari dataframe"
   ]
  },
  {
   "cell_type": "code",
   "execution_count": 23,
   "id": "89df417f",
   "metadata": {},
   "outputs": [],
   "source": [
    "dataall.drop(columns='Customer Name', inplace=True) #menghapus colum pada dataframe"
   ]
  },
  {
   "cell_type": "code",
   "execution_count": 24,
   "id": "14d8ffa2",
   "metadata": {},
   "outputs": [
    {
     "data": {
      "text/html": [
       "<div>\n",
       "<style scoped>\n",
       "    .dataframe tbody tr th:only-of-type {\n",
       "        vertical-align: middle;\n",
       "    }\n",
       "\n",
       "    .dataframe tbody tr th {\n",
       "        vertical-align: top;\n",
       "    }\n",
       "\n",
       "    .dataframe thead th {\n",
       "        text-align: right;\n",
       "    }\n",
       "</style>\n",
       "<table border=\"1\" class=\"dataframe\">\n",
       "  <thead>\n",
       "    <tr style=\"text-align: right;\">\n",
       "      <th></th>\n",
       "      <th>Agent</th>\n",
       "      <th>Conversation ID</th>\n",
       "      <th>Customer ID</th>\n",
       "      <th>Channel</th>\n",
       "      <th>Tag</th>\n",
       "      <th>Room Assigned At</th>\n",
       "      <th>AGENT</th>\n",
       "      <th>TANGGAL</th>\n",
       "      <th>Tag Created At</th>\n",
       "      <th>Agen</th>\n",
       "    </tr>\n",
       "  </thead>\n",
       "  <tbody>\n",
       "    <tr>\n",
       "      <th>0</th>\n",
       "      <td>Indriani</td>\n",
       "      <td>70006594</td>\n",
       "      <td>6281212436602</td>\n",
       "      <td>WhatsApp - Rumah Sunat dr. Mahdian</td>\n",
       "      <td>[WhatsappAnakregular] regular visitorbr</td>\n",
       "      <td>2022-03-10T05:46:11Z</td>\n",
       "      <td>NaN</td>\n",
       "      <td>NaN</td>\n",
       "      <td>NaN</td>\n",
       "      <td>NaN</td>\n",
       "    </tr>\n",
       "    <tr>\n",
       "      <th>1</th>\n",
       "      <td>Indriani</td>\n",
       "      <td>69925093</td>\n",
       "      <td>6285850733657</td>\n",
       "      <td>WhatsApp - Rumah Sunat dr. Mahdian</td>\n",
       "      <td>tidakadakode regular lain-lainbr</td>\n",
       "      <td>2022-03-10T00:40:43Z</td>\n",
       "      <td>NaN</td>\n",
       "      <td>NaN</td>\n",
       "      <td>NaN</td>\n",
       "      <td>NaN</td>\n",
       "    </tr>\n",
       "    <tr>\n",
       "      <th>2</th>\n",
       "      <td>Indriani</td>\n",
       "      <td>69935768</td>\n",
       "      <td>6282299992688</td>\n",
       "      <td>WhatsApp - Rumah Sunat dr. Mahdian</td>\n",
       "      <td>[WhatsappAnakReguler] housecall lain-lainbr</td>\n",
       "      <td>2022-03-10T00:40:48Z</td>\n",
       "      <td>NaN</td>\n",
       "      <td>NaN</td>\n",
       "      <td>NaN</td>\n",
       "      <td>NaN</td>\n",
       "    </tr>\n",
       "    <tr>\n",
       "      <th>3</th>\n",
       "      <td>Indriani</td>\n",
       "      <td>69940601</td>\n",
       "      <td>6281289196296</td>\n",
       "      <td>WhatsApp - Rumah Sunat dr. Mahdian</td>\n",
       "      <td>tidakadakode regular visitorbr</td>\n",
       "      <td>2022-03-10T00:40:52Z</td>\n",
       "      <td>NaN</td>\n",
       "      <td>NaN</td>\n",
       "      <td>NaN</td>\n",
       "      <td>NaN</td>\n",
       "    </tr>\n",
       "    <tr>\n",
       "      <th>4</th>\n",
       "      <td>Indriani</td>\n",
       "      <td>69912882</td>\n",
       "      <td>6282122370192</td>\n",
       "      <td>WhatsApp - Rumah Sunat dr. Mahdian</td>\n",
       "      <td>tidakadakode gemuk visitorlm</td>\n",
       "      <td>2022-03-10T00:40:47Z</td>\n",
       "      <td>NaN</td>\n",
       "      <td>NaN</td>\n",
       "      <td>NaN</td>\n",
       "      <td>NaN</td>\n",
       "    </tr>\n",
       "  </tbody>\n",
       "</table>\n",
       "</div>"
      ],
      "text/plain": [
       "      Agent  Conversation ID    Customer ID  \\\n",
       "0  Indriani         70006594  6281212436602   \n",
       "1  Indriani         69925093  6285850733657   \n",
       "2  Indriani         69935768  6282299992688   \n",
       "3  Indriani         69940601  6281289196296   \n",
       "4  Indriani         69912882  6282122370192   \n",
       "\n",
       "                              Channel  \\\n",
       "0  WhatsApp - Rumah Sunat dr. Mahdian   \n",
       "1  WhatsApp - Rumah Sunat dr. Mahdian   \n",
       "2  WhatsApp - Rumah Sunat dr. Mahdian   \n",
       "3  WhatsApp - Rumah Sunat dr. Mahdian   \n",
       "4  WhatsApp - Rumah Sunat dr. Mahdian   \n",
       "\n",
       "                                           Tag      Room Assigned At AGENT  \\\n",
       "0      [WhatsappAnakregular] regular visitorbr  2022-03-10T05:46:11Z   NaN   \n",
       "1             tidakadakode regular lain-lainbr  2022-03-10T00:40:43Z   NaN   \n",
       "2  [WhatsappAnakReguler] housecall lain-lainbr  2022-03-10T00:40:48Z   NaN   \n",
       "3               tidakadakode regular visitorbr  2022-03-10T00:40:52Z   NaN   \n",
       "4                 tidakadakode gemuk visitorlm  2022-03-10T00:40:47Z   NaN   \n",
       "\n",
       "  TANGGAL Tag Created At Agen  \n",
       "0     NaN            NaN  NaN  \n",
       "1     NaN            NaN  NaN  \n",
       "2     NaN            NaN  NaN  \n",
       "3     NaN            NaN  NaN  \n",
       "4     NaN            NaN  NaN  "
      ]
     },
     "execution_count": 24,
     "metadata": {},
     "output_type": "execute_result"
    }
   ],
   "source": [
    "dataall.head()"
   ]
  },
  {
   "cell_type": "code",
   "execution_count": 25,
   "id": "ce78fc22",
   "metadata": {},
   "outputs": [
    {
     "data": {
      "text/plain": [
       "(70, 10)"
      ]
     },
     "execution_count": 25,
     "metadata": {},
     "output_type": "execute_result"
    }
   ],
   "source": [
    "dataall.shape #mengetahui jumlah baris dan colum"
   ]
  },
  {
   "cell_type": "code",
   "execution_count": 26,
   "id": "4cce3b0b",
   "metadata": {},
   "outputs": [
    {
     "data": {
      "text/plain": [
       "Index(['Agent', 'Conversation ID', 'Customer ID', 'Channel', 'Tag',\n",
       "       'Room Assigned At', 'AGENT', 'TANGGAL', 'Tag Created At', 'Agen'],\n",
       "      dtype='object')"
      ]
     },
     "execution_count": 26,
     "metadata": {},
     "output_type": "execute_result"
    }
   ],
   "source": [
    "dataall.columns #menampilkan daftar colum"
   ]
  },
  {
   "cell_type": "code",
   "execution_count": 27,
   "id": "82a51522",
   "metadata": {},
   "outputs": [
    {
     "data": {
      "text/plain": [
       "Agent               object\n",
       "Conversation ID      int64\n",
       "Customer ID          int64\n",
       "Channel             object\n",
       "Tag                 object\n",
       "Room Assigned At    object\n",
       "AGENT               object\n",
       "TANGGAL             object\n",
       "Tag Created At      object\n",
       "Agen                object\n",
       "dtype: object"
      ]
     },
     "execution_count": 27,
     "metadata": {},
     "output_type": "execute_result"
    }
   ],
   "source": [
    "dataall.dtypes #menampilkan type data setiap colum"
   ]
  },
  {
   "cell_type": "code",
   "execution_count": 9,
   "id": "5dbcfaf4",
   "metadata": {},
   "outputs": [
    {
     "name": "stdout",
     "output_type": "stream",
     "text": [
      "<class 'pandas.core.frame.DataFrame'>\n",
      "RangeIndex: 9 entries, 0 to 8\n",
      "Data columns (total 6 columns):\n",
      " #   Column            Non-Null Count  Dtype \n",
      "---  ------            --------------  ----- \n",
      " 0   Agent             9 non-null      object\n",
      " 1   Conversation ID   9 non-null      int64 \n",
      " 2   Customer ID       9 non-null      int64 \n",
      " 3   Channel           9 non-null      object\n",
      " 4   Tag               9 non-null      object\n",
      " 5   Room Assigned At  9 non-null      object\n",
      "dtypes: int64(2), object(4)\n",
      "memory usage: 560.0+ bytes\n"
     ]
    }
   ],
   "source": [
    "dataku.info() #informasi dataset"
   ]
  },
  {
   "cell_type": "code",
   "execution_count": 28,
   "id": "357cff5e",
   "metadata": {},
   "outputs": [
    {
     "data": {
      "text/plain": [
       "True"
      ]
     },
     "execution_count": 28,
     "metadata": {},
     "output_type": "execute_result"
    }
   ],
   "source": [
    "dataall.isna().values.any()#untuk menampilkan dta yang kosong"
   ]
  },
  {
   "cell_type": "code",
   "execution_count": 29,
   "id": "ecba8440",
   "metadata": {
    "tags": []
   },
   "outputs": [
    {
     "data": {
      "text/html": [
       "<div>\n",
       "<style scoped>\n",
       "    .dataframe tbody tr th:only-of-type {\n",
       "        vertical-align: middle;\n",
       "    }\n",
       "\n",
       "    .dataframe tbody tr th {\n",
       "        vertical-align: top;\n",
       "    }\n",
       "\n",
       "    .dataframe thead th {\n",
       "        text-align: right;\n",
       "    }\n",
       "</style>\n",
       "<table border=\"1\" class=\"dataframe\">\n",
       "  <thead>\n",
       "    <tr style=\"text-align: right;\">\n",
       "      <th></th>\n",
       "      <th>Agent</th>\n",
       "      <th>Conversation ID</th>\n",
       "      <th>Customer ID</th>\n",
       "      <th>Channel</th>\n",
       "      <th>Tag</th>\n",
       "      <th>Room Assigned At</th>\n",
       "      <th>AGENT</th>\n",
       "      <th>TANGGAL</th>\n",
       "      <th>Tag Created At</th>\n",
       "      <th>Agen</th>\n",
       "    </tr>\n",
       "  </thead>\n",
       "  <tbody>\n",
       "  </tbody>\n",
       "</table>\n",
       "</div>"
      ],
      "text/plain": [
       "Empty DataFrame\n",
       "Columns: [Agent, Conversation ID, Customer ID, Channel, Tag, Room Assigned At, AGENT, TANGGAL, Tag Created At, Agen]\n",
       "Index: []"
      ]
     },
     "execution_count": 29,
     "metadata": {},
     "output_type": "execute_result"
    }
   ],
   "source": [
    "dataall[dataall.duplicated()]#mengetahui duplikasi data yg di tampilkan adalah sekunder datanya(Data tidak ada duplikasi).\n",
    "#jika ingin melihat keseluruhan data duplikasi tambahkan (keep=False)"
   ]
  },
  {
   "cell_type": "code",
   "execution_count": 52,
   "id": "21852c71",
   "metadata": {},
   "outputs": [],
   "source": [
    "data_bersih = dataall['Customer ID'].duplicated().value_counts()#menghitung jumlah duplikasi datanya"
   ]
  },
  {
   "cell_type": "code",
   "execution_count": 53,
   "id": "4a0d4620",
   "metadata": {},
   "outputs": [],
   "source": [
    "data_bersih.drop_duplicates(inplace=True)#menghapus data yang duplikasi"
   ]
  },
  {
   "cell_type": "code",
   "execution_count": 50,
   "id": "2747c332-4797-4392-88f0-46f2ec2eb626",
   "metadata": {},
   "outputs": [
    {
     "data": {
      "text/plain": [
       "7"
      ]
     },
     "execution_count": 50,
     "metadata": {},
     "output_type": "execute_result"
    }
   ],
   "source": [
    "data_bersih"
   ]
  },
  {
   "cell_type": "code",
   "execution_count": 54,
   "id": "477ca70d",
   "metadata": {},
   "outputs": [
    {
     "data": {
      "text/plain": [
       "count     2.00000\n",
       "mean     35.00000\n",
       "std      39.59798\n",
       "min       7.00000\n",
       "25%      21.00000\n",
       "50%      35.00000\n",
       "75%      49.00000\n",
       "max      63.00000\n",
       "Name: Customer ID, dtype: float64"
      ]
     },
     "execution_count": 54,
     "metadata": {},
     "output_type": "execute_result"
    }
   ],
   "source": [
    "data_bersih.describe() #melihat data korelasi statistiknya"
   ]
  }
 ],
 "metadata": {
  "kernelspec": {
   "display_name": "Python 3 (ipykernel)",
   "language": "python",
   "name": "python3"
  },
  "language_info": {
   "codemirror_mode": {
    "name": "ipython",
    "version": 3
   },
   "file_extension": ".py",
   "mimetype": "text/x-python",
   "name": "python",
   "nbconvert_exporter": "python",
   "pygments_lexer": "ipython3",
   "version": "3.9.7"
  }
 },
 "nbformat": 4,
 "nbformat_minor": 5
}
