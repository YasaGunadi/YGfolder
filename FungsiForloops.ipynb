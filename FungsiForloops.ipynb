{
 "cells": [
  {
   "cell_type": "code",
   "execution_count": 6,
   "id": "803e2bf2",
   "metadata": {},
   "outputs": [],
   "source": [
    "#fungsi for loops string (dilakukan untuk melakukan iterasi)"
   ]
  },
  {
   "cell_type": "code",
   "execution_count": 7,
   "id": "4c0bb365",
   "metadata": {},
   "outputs": [
    {
     "name": "stdout",
     "output_type": "stream",
     "text": [
      "saya belajar python"
     ]
    }
   ],
   "source": [
    "for i in'saya belajar python':\n",
    "        print(i,end='')"
   ]
  },
  {
   "cell_type": "code",
   "execution_count": 9,
   "id": "c3da1f12",
   "metadata": {},
   "outputs": [],
   "source": [
    "angka =(1,2,3,4,5,6,7,8,9,10)"
   ]
  },
  {
   "cell_type": "code",
   "execution_count": 12,
   "id": "863c64ee",
   "metadata": {},
   "outputs": [
    {
     "name": "stdout",
     "output_type": "stream",
     "text": [
      "12345678910"
     ]
    }
   ],
   "source": [
    "for isi in angka:\n",
    "    print(isi, end='')"
   ]
  },
  {
   "cell_type": "code",
   "execution_count": 13,
   "id": "8d3f9b45",
   "metadata": {},
   "outputs": [],
   "source": [
    "#for loops mencari penjumlahan dalam angka"
   ]
  },
  {
   "cell_type": "code",
   "execution_count": 14,
   "id": "abb72068",
   "metadata": {},
   "outputs": [],
   "source": [
    "jumlah = 0"
   ]
  },
  {
   "cell_type": "code",
   "execution_count": 15,
   "id": "7c05323b",
   "metadata": {},
   "outputs": [
    {
     "name": "stdout",
     "output_type": "stream",
     "text": [
      "hasil penjumlahan pada interator ke-1 adalah 1\n",
      "hasil penjumlahan pada interator ke-2 adalah 3\n",
      "hasil penjumlahan pada interator ke-3 adalah 6\n",
      "hasil penjumlahan pada interator ke-4 adalah 10\n",
      "hasil penjumlahan pada interator ke-5 adalah 15\n",
      "hasil penjumlahan pada interator ke-6 adalah 21\n",
      "hasil penjumlahan pada interator ke-7 adalah 28\n",
      "hasil penjumlahan pada interator ke-8 adalah 36\n",
      "hasil penjumlahan pada interator ke-9 adalah 45\n",
      "hasil penjumlahan pada interator ke-10 adalah 55\n"
     ]
    }
   ],
   "source": [
    "for isi in angka:\n",
    "    jumlah = jumlah+isi\n",
    "    print ('hasil penjumlahan pada interator ke-{} adalah {}'.format(isi,jumlah))"
   ]
  },
  {
   "cell_type": "code",
   "execution_count": 16,
   "id": "ceb145be",
   "metadata": {},
   "outputs": [
    {
     "name": "stdout",
     "output_type": "stream",
     "text": [
      "hasil penjumlahan adalah 110\n"
     ]
    }
   ],
   "source": [
    "for isi in angka:\n",
    "    jumlah = jumlah+isi\n",
    "print('hasil penjumlahan adalah',jumlah)"
   ]
  },
  {
   "cell_type": "code",
   "execution_count": null,
   "id": "a3d8d0a1",
   "metadata": {},
   "outputs": [],
   "source": []
  }
 ],
 "metadata": {
  "kernelspec": {
   "display_name": "Python 3 (ipykernel)",
   "language": "python",
   "name": "python3"
  },
  "language_info": {
   "codemirror_mode": {
    "name": "ipython",
    "version": 3
   },
   "file_extension": ".py",
   "mimetype": "text/x-python",
   "name": "python",
   "nbconvert_exporter": "python",
   "pygments_lexer": "ipython3",
   "version": "3.9.7"
  }
 },
 "nbformat": 4,
 "nbformat_minor": 5
}
